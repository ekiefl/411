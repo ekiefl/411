{
 "metadata": {
  "name": "",
  "signature": "sha256:ed593b5640af6e20245706bb6aa77a190c6b7b934fee6520803a7c2d8d5aa32c"
 },
 "nbformat": 3,
 "nbformat_minor": 0,
 "worksheets": [
  {
   "cells": [
    {
     "cell_type": "code",
     "collapsed": false,
     "input": [
      "import numpy as np\n",
      "import matplotlib.mlab as mlab\n",
      "import scipy.stats as stats\n",
      "import matplotlib.pyplot as plt\n",
      "import numpy.ma as ma\n",
      "from mpl_toolkits.mplot3d import axes3d\n",
      "%matplotlib inline\n",
      "\n",
      "N = 5\n",
      "Corr = np.zeros(N)\n",
      "\n",
      "#loading in initial data\n",
      "raw1 = np.genfromtxt('1.csv', delimiter=',')\n",
      "z1 = raw1[:,2]\n",
      "\n",
      "for n in range(1,N+1):\n",
      "    \n",
      "    raw = np.genfromtxt('%d.csv' %n, delimiter=',')\n",
      "    z = raw[:,2]\n",
      "    \n",
      "    '''\n",
      "    #plotting stuff\n",
      "    r = np.sqrt(len(raw[:,1]))\n",
      "    x = raw[:r,0]\n",
      "    y = raw[:r,0]\n",
      "    \n",
      "    X, Y = np.meshgrid(x, y)\n",
      "    Z = np.reshape(z, (r, r))\n",
      "\n",
      "    cmap = plt.get_cmap('copper')\n",
      "    fig = plt.figure(figsize=(8,6))\n",
      "    ax = fig.add_subplot(1,1,1) \n",
      "    pcm = ax.pcolormesh(X,Y,Z, cmap = cmap)\n",
      "    fig.colorbar(pcm)\n",
      "    ax.set_title('n = %d' %n)\n",
      "    '''\n",
      "    \n",
      "    \n",
      "    z = raw[:,2]\n",
      "    \n",
      "    \n",
      "\n",
      "    \n",
      "\n",
      "\n",
      "\n",
      "\n"
     ],
     "language": "python",
     "metadata": {},
     "outputs": [
      {
       "ename": "NameError",
       "evalue": "name 'n' is not defined",
       "output_type": "pyerr",
       "traceback": [
        "\u001b[0;31m---------------------------------------------------------------------------\u001b[0m\n\u001b[0;31mNameError\u001b[0m                                 Traceback (most recent call last)",
        "\u001b[0;32m<ipython-input-1-bc8c246d3628>\u001b[0m in \u001b[0;36m<module>\u001b[0;34m()\u001b[0m\n\u001b[1;32m     11\u001b[0m \u001b[0;34m\u001b[0m\u001b[0m\n\u001b[1;32m     12\u001b[0m \u001b[0;31m#loading in initial data\u001b[0m\u001b[0;34m\u001b[0m\u001b[0;34m\u001b[0m\u001b[0m\n\u001b[0;32m---> 13\u001b[0;31m \u001b[0mraw1\u001b[0m \u001b[0;34m=\u001b[0m \u001b[0mnp\u001b[0m\u001b[0;34m.\u001b[0m\u001b[0mgenfromtxt\u001b[0m\u001b[0;34m(\u001b[0m\u001b[0;34m'%d.csv'\u001b[0m \u001b[0;34m%\u001b[0m\u001b[0mn\u001b[0m\u001b[0;34m,\u001b[0m \u001b[0mdelimiter\u001b[0m\u001b[0;34m=\u001b[0m\u001b[0;34m','\u001b[0m\u001b[0;34m)\u001b[0m\u001b[0;34m\u001b[0m\u001b[0m\n\u001b[0m\u001b[1;32m     14\u001b[0m \u001b[0mz1\u001b[0m \u001b[0;34m=\u001b[0m \u001b[0mraw1\u001b[0m\u001b[0;34m[\u001b[0m\u001b[0;34m:\u001b[0m\u001b[0;34m,\u001b[0m\u001b[0;36m2\u001b[0m\u001b[0;34m]\u001b[0m\u001b[0;34m\u001b[0m\u001b[0m\n\u001b[1;32m     15\u001b[0m \u001b[0;34m\u001b[0m\u001b[0m\n",
        "\u001b[0;31mNameError\u001b[0m: name 'n' is not defined"
       ]
      }
     ],
     "prompt_number": 1
    },
    {
     "cell_type": "code",
     "collapsed": false,
     "input": [],
     "language": "python",
     "metadata": {},
     "outputs": []
    }
   ],
   "metadata": {}
  }
 ]
}