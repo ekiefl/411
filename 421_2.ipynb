{
 "metadata": {
  "name": "",
  "signature": "sha256:a15fef37084b942a89467bdc699b48f1193ee649b1b9a47a1866e70a65ecae53"
 },
 "nbformat": 3,
 "nbformat_minor": 0,
 "worksheets": [
  {
   "cells": [
    {
     "cell_type": "code",
     "collapsed": false,
     "input": [
      "import numpy as np\n",
      "import matplotlib.pyplot as plt\n",
      "\n",
      "def get_rolls():\n",
      "    a = 0                            # left bound\n",
      "    b = 1                            # right \n",
      "    N = 1000\n",
      "\n",
      "    x = np.linspace(a,b,N)           # the domain over which probability is defined\n",
      "    w = 2 - 2*x                      # the probability density\n",
      "    A = np.cumsum(w)                 # the area of the probability density function from a to x \n",
      "\n",
      "    roll = A[-1] * np.random.rand()  # rolls a random number ranging from min(A)-->max(A)\n",
      "\n",
      "    for i,n in enumerate(A):         # finds which x value corresponds to roll\n",
      "        if n > roll:\n",
      "            return x[i]\n",
      "\n",
      "def proof_it_works():\n",
      "    n = 10000                                 # number of rolls\n",
      "    sample = []\n",
      "    for i in range (0,n):                     # rolls n times and adds roll to sample\n",
      "        sample.append(get_rolls())\n",
      "\n",
      "    fig=plt.figure(figsize=(8,5))             # plots\n",
      "    ax=fig.add_subplot(1,1,1)\n",
      "    ax.hist(sample,bins=20,normed=True)\n",
      "    ax.set_title('normalized histogram')\n",
      "    ax.set_xlabel('s')\n",
      "    ax.set_ylabel('counts')\n",
      "    plt.show()\n",
      "\n",
      "def random_walk_exp(N):\n",
      "    walk = np.zeros(N)\n",
      "    for i in range(0,N):\n",
      "        walk[i] = get_rolls()\n",
      "    return np.sum(walk)                        # final position\n",
      "\n",
      "proof_it_works()\n",
      "\n",
      "N=30\n",
      "ensemble = 1000\n",
      "positions = np.zeros(ensemble)\n",
      "for i in range(0,ensemble):\n",
      "    positions[i] = random_walk_exp(N)\n",
      "\n",
      "print 'mean x is              ', np.mean(positions)\n",
      "print 'std of x is            ', np.std(positions)\n",
      "\n",
      "print 'that means mean of s is', np.mean(positions)/N\n",
      "print 'and that std of s is   ', np.std(positions)/np.sqrt(N)\n",
      "\n",
      "print ''\n",
      "print 'therefore it agrees with part b)'"
     ],
     "language": "python",
     "metadata": {},
     "outputs": [
      {
       "output_type": "stream",
       "stream": "stdout",
       "text": [
        "mean x is               9.96478078078\n",
        "std of x is             1.24105659212\n",
        "that means mean of s is 0.332159359359\n",
        "and that std of s is    0.226584896882\n",
        "\n",
        "therefore it agrees with part b)\n"
       ]
      }
     ],
     "prompt_number": 23
    },
    {
     "cell_type": "code",
     "collapsed": false,
     "input": [
      "print np.sqrt(1./18)"
     ],
     "language": "python",
     "metadata": {},
     "outputs": [
      {
       "output_type": "stream",
       "stream": "stdout",
       "text": [
        "0.235702260396\n"
       ]
      }
     ],
     "prompt_number": 18
    },
    {
     "cell_type": "code",
     "collapsed": false,
     "input": [],
     "language": "python",
     "metadata": {},
     "outputs": []
    }
   ],
   "metadata": {}
  }
 ]
}